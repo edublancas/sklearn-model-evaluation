{
 "cells": [
  {
   "cell_type": "markdown",
   "id": "6fbf5ddf",
   "metadata": {},
   "source": [
    "# Querying notebooks with SQL\n",
    "\n",
    "*Added in sklearn-evaluation version 0.6*. Questions? [Join our community!](https://ploomber.io/community)"
   ]
  },
  {
   "cell_type": "markdown",
   "id": "9b479191",
   "metadata": {},
   "source": [
    "`NotebookDatabase` indexes outputs from a collection of notebooks in a SQLite database so you can query them. Any tagged cells will be captured and indexed by the database.\n",
    "\n",
    "Requirements:\n",
    "\n",
    "```sh\n",
    "pip install scikit-learn sklearn-evaluation ploomber jupysql\n",
    "```\n"
   ]
  },
  {
   "cell_type": "code",
   "execution_count": 1,
   "id": "f20b8548",
   "metadata": {},
   "outputs": [],
   "source": [
    "from pathlib import Path\n",
    "\n",
    "# to train models in parallel\n",
    "from ploomber import DAG\n",
    "from ploomber.tasks import NotebookRunner\n",
    "from ploomber.products import File\n",
    "from ploomber.executors import Parallel, Serial\n",
    "\n",
    "# to produce parameter grid\n",
    "from sklearn.model_selection import ParameterGrid\n",
    "\n",
    "# to create SQLite database\n",
    "from sklearn_evaluation import NotebookDatabase"
   ]
  },
  {
   "cell_type": "markdown",
   "id": "b7a14050",
   "metadata": {},
   "source": [
    "## Code\n",
    "\n",
    "`NotebookDatabase` indexes the output of tagged cells. In this example, we're using Python scripts (and tag cells using `# %% tags=[\"some-tag\"]`), but the same concept applies for notebooks (`.ipynb`), [see here](https://docs.ploomber.io/en/latest/user-guide/faq_index.html#parameterizing-notebooks) to learn how to tag cells in `.ipynb` files."
   ]
  },
  {
   "cell_type": "code",
   "execution_count": 2,
   "id": "1f01edb2",
   "metadata": {},
   "outputs": [
    {
     "data": {
      "text/plain": [
       "883"
      ]
     },
     "execution_count": 2,
     "metadata": {},
     "output_type": "execute_result"
    }
   ],
   "source": [
    "# data loading script\n",
    "data = \"\"\"\n",
    "# %% tags=[\"parameters\"]\n",
    "upstream = None\n",
    "product = None\n",
    "\n",
    "# %%\n",
    "from sklearn import datasets\n",
    "\n",
    "# %%\n",
    "ca_housing = datasets.fetch_california_housing(as_frame=True)\n",
    "df = ca_housing['frame']\n",
    "df.to_csv(product['data'], index=False)\n",
    "\"\"\"\n",
    "Path('data.py').write_text(data)\n",
    "\n",
    "# model fitting script\n",
    "model = \"\"\"\n",
    "# %% tags=[\"parameters\"]\n",
    "model = None\n",
    "params = None\n",
    "upstream = None\n",
    "product = None\n",
    "\n",
    "# %%\n",
    "import importlib\n",
    "\n",
    "import pandas as pd\n",
    "from sklearn.model_selection import train_test_split\n",
    "from sklearn.metrics import mean_squared_error\n",
    "\n",
    "# %%\n",
    "df = pd.read_csv(upstream['data']['data'])\n",
    "\n",
    "# %%\n",
    "X = df.drop('MedHouseVal', axis='columns')\n",
    "y = df.MedHouseVal\n",
    "\n",
    "# %%\n",
    "X_train, X_test, y_train, y_test = train_test_split(X,\n",
    "                                                    y,\n",
    "                                                    test_size=0.33,\n",
    "                                                    random_state=0)\n",
    "\n",
    "# %% tags=[\"model\"]\n",
    "mod, _, attr = model.rpartition('.')\n",
    "reg = getattr(importlib.import_module(mod), attr)(**params)\n",
    "reg.fit(X_train, y_train)\n",
    "print(model)\n",
    "\n",
    "# %% tags=[\"params\"]\n",
    "print(reg.get_params())\n",
    "\n",
    "# %% tags=[\"mse\"]\n",
    "y_pred = reg.predict(X_test)\n",
    "mean_squared_error(y_test, y_pred)\n",
    "\"\"\"\n",
    "Path('model.py').write_text(model)"
   ]
  },
  {
   "cell_type": "markdown",
   "id": "4f6f1365",
   "metadata": {},
   "source": [
    "## Pipeline declaration\n",
    "\n",
    "Create a pipeline using [Ploomber](https://docs.ploomber.io/en/latest/) and execute it in parallel.\n",
    "\n",
    "Note that if your models don't take long to run, using the `Serial` executor might be faster, since spinning up a new subprocess is expensive.\n",
    "\n",
    "Each experiment will create an output `.ipynb` file."
   ]
  },
  {
   "cell_type": "code",
   "execution_count": 3,
   "id": "6ed4ec9f",
   "metadata": {},
   "outputs": [],
   "source": [
    "parallel = True\n",
    "\n",
    "if parallel:\n",
    "    executor = Parallel()\n",
    "else:\n",
    "    executor = Serial(build_in_subprocess=False)\n",
    "\n",
    "\n",
    "dag = DAG(executor=executor)\n",
    "\n",
    "\n",
    "experiments = {\n",
    "    'sklearn.tree.DecisionTreeRegressor': ParameterGrid(dict(criterion=['squared_error', 'friedman_mse'], splitter=['best', 'random'], max_depth=[3, 5])),\n",
    "    'sklearn.linear_model.Lasso': ParameterGrid(dict(alpha=[1.0, 2.0, 3.0], fit_intercept=[True, False])),\n",
    "    'sklearn.linear_model.Ridge':ParameterGrid(dict(alpha=[1.0, 2.0, 3.0], fit_intercept=[True, False])), \n",
    "    'sklearn.linear_model.ElasticNet': ParameterGrid(dict(alpha=[1.0, 2.0, 3.0], fit_intercept=[True, False])), \n",
    "}\n",
    "\n",
    "papermill_params=dict(engine_name='embedded', progress_bar=False)\n",
    "\n",
    "# the embedded engine is more reliable\n",
    "task_data = NotebookRunner(Path('data.py'), {'nb': File('output/data.html'), 'data': File('output/data.csv')},\n",
    "               dag=dag, papermill_params=papermill_params)\n",
    "\n",
    "# generate one task per set of parameter\n",
    "for model, grid in experiments.items():\n",
    "    for i, params in enumerate(grid):\n",
    "        name = f'{model}-{i}'\n",
    "        task = NotebookRunner(Path('model.py'), File(f'output/models/{name}.ipynb'), dag=dag, name=name,\n",
    "                       papermill_params=papermill_params,\n",
    "                       params=dict(model=model, params=params))\n",
    "        task_data >> task"
   ]
  },
  {
   "cell_type": "markdown",
   "id": "99304aea",
   "metadata": {},
   "source": [
    "## Pipeline execution"
   ]
  },
  {
   "cell_type": "code",
   "execution_count": 4,
   "id": "f639ae8c",
   "metadata": {},
   "outputs": [
    {
     "data": {
      "text/plain": [
       "27"
      ]
     },
     "execution_count": 4,
     "metadata": {},
     "output_type": "execute_result"
    }
   ],
   "source": [
    "# total experiments to run\n",
    "len(dag)"
   ]
  },
  {
   "cell_type": "code",
   "execution_count": 5,
   "id": "baedfc48",
   "metadata": {
    "tags": [
     "hide-output"
    ]
   },
   "outputs": [
    {
     "data": {
      "application/vnd.jupyter.widget-view+json": {
       "model_id": "eb8e3145af794b0986f826ce3ee04e5b",
       "version_major": 2,
       "version_minor": 0
      },
      "text/plain": [
       "  0%|          | 0/27 [00:00<?, ?it/s]"
      ]
     },
     "metadata": {},
     "output_type": "display_data"
    },
    {
     "name": "stderr",
     "output_type": "stream",
     "text": [
      "/Users/neelashasen/miniforge3/envs/sk-eval/lib/python3.10/site-packages/ploomber_core/config.py:31: UserWarning: Error loading '/Users/neelashasen/.ploomber/stats/uid.yaml': while scanning a simple key\n",
      "  in \"<unicode string>\", line 4, column 1:\n",
      "    44c3-93d9-2cc337833513\n",
      "    ^\n",
      "could not find expected ':'\n",
      "  in \"<unicode string>\", line 5, column 1:\n",
      "    \n",
      "    ^\n",
      "\n",
      "reverting to default values\n",
      "  warnings.warn(f'Error loading {str(path)!r}: {e}\\n\\n'\n"
     ]
    },
    {
     "name": "stdout",
     "output_type": "stream",
     "text": [
      "There's a new ploomber-engine version available (0.0.13), you're running 0.0.10. To upgrade: pip install ploomber-engine --upgrade\n",
      "There's a new ploomber-engine version available (0.0.13), you're running 0.0.10. To upgrade: pip install ploomber-engine --upgrade\n",
      "There's a new ploomber-engine version available (0.0.13), you're running 0.0.10. To upgrade: pip install ploomber-engine --upgrade\n",
      "There's a new ploomber-engine version available (0.0.13), you're running 0.0.10. To upgrade: pip install ploomber-engine --upgrade\n",
      "There's a new ploomber-engine version available (0.0.13), you're running 0.0.10. To upgrade: pip install ploomber-engine --upgrade\n",
      "There's a new ploomber-engine version available (0.0.13), you're running 0.0.10. To upgrade: pip install ploomber-engine --upgrade\n",
      "There's a new ploomber-engine version available (0.0.13), you're running 0.0.10. To upgrade: pip install ploomber-engine --upgrade\n",
      "There's a new ploomber-engine version available (0.0.13), you're running 0.0.10. To upgrade: pip install ploomber-engine --upgrade\n",
      "There's a new ploomber-engine version available (0.0.13), you're running 0.0.10. To upgrade: pip install ploomber-engine --upgrade\n",
      "There's a new ploomber-engine version available (0.0.13), you're running 0.0.10. To upgrade: pip install ploomber-engine --upgrade\n",
      "There's a new ploomber-engine version available (0.0.13), you're running 0.0.10. To upgrade: pip install ploomber-engine --upgrade\n"
     ]
    },
    {
     "data": {
      "text/html": [
       "<table>\n",
       "<thead>\n",
       "<tr><th>name                                </th><th>Ran?  </th><th style=\"text-align: right;\">  Elapsed (s)</th><th style=\"text-align: right;\">  Percentage</th></tr>\n",
       "</thead>\n",
       "<tbody>\n",
       "<tr><td>data                                </td><td>True  </td><td style=\"text-align: right;\">     1.07003 </td><td style=\"text-align: right;\">     5.03595</td></tr>\n",
       "<tr><td>sklearn.tree.DecisionTreeRegressor-0</td><td>True  </td><td style=\"text-align: right;\">     0.616815</td><td style=\"text-align: right;\">     2.90297</td></tr>\n",
       "<tr><td>sklearn.tree.DecisionTreeRegressor-1</td><td>True  </td><td style=\"text-align: right;\">     1.53653 </td><td style=\"text-align: right;\">     7.23148</td></tr>\n",
       "<tr><td>sklearn.tree.DecisionTreeRegressor-2</td><td>True  </td><td style=\"text-align: right;\">     1.59487 </td><td style=\"text-align: right;\">     7.50605</td></tr>\n",
       "<tr><td>sklearn.tree.DecisionTreeRegressor-3</td><td>True  </td><td style=\"text-align: right;\">     1.53029 </td><td style=\"text-align: right;\">     7.20213</td></tr>\n",
       "<tr><td>sklearn.tree.DecisionTreeRegressor-4</td><td>True  </td><td style=\"text-align: right;\">     1.55809 </td><td style=\"text-align: right;\">     7.33298</td></tr>\n",
       "<tr><td>sklearn.tree.DecisionTreeRegressor-5</td><td>True  </td><td style=\"text-align: right;\">     1.54546 </td><td style=\"text-align: right;\">     7.27351</td></tr>\n",
       "<tr><td>sklearn.tree.DecisionTreeRegressor-6</td><td>True  </td><td style=\"text-align: right;\">     1.65551 </td><td style=\"text-align: right;\">     7.79145</td></tr>\n",
       "<tr><td>sklearn.tree.DecisionTreeRegressor-7</td><td>True  </td><td style=\"text-align: right;\">     1.40695 </td><td style=\"text-align: right;\">     6.62165</td></tr>\n",
       "<tr><td>sklearn.linear_model.Lasso-0        </td><td>True  </td><td style=\"text-align: right;\">     0.333057</td><td style=\"text-align: right;\">     1.56749</td></tr>\n",
       "<tr><td>sklearn.linear_model.Lasso-1        </td><td>True  </td><td style=\"text-align: right;\">     0.428226</td><td style=\"text-align: right;\">     2.0154 </td></tr>\n",
       "<tr><td>sklearn.linear_model.Lasso-2        </td><td>True  </td><td style=\"text-align: right;\">     0.361375</td><td style=\"text-align: right;\">     1.70077</td></tr>\n",
       "<tr><td>sklearn.linear_model.Lasso-3        </td><td>True  </td><td style=\"text-align: right;\">     0.519562</td><td style=\"text-align: right;\">     2.44526</td></tr>\n",
       "<tr><td>sklearn.linear_model.Lasso-4        </td><td>True  </td><td style=\"text-align: right;\">     0.407432</td><td style=\"text-align: right;\">     1.91753</td></tr>\n",
       "<tr><td>sklearn.linear_model.Lasso-5        </td><td>True  </td><td style=\"text-align: right;\">     0.474171</td><td style=\"text-align: right;\">     2.23163</td></tr>\n",
       "<tr><td>sklearn.linear_model.Ridge-0        </td><td>True  </td><td style=\"text-align: right;\">     0.269922</td><td style=\"text-align: right;\">     1.27036</td></tr>\n",
       "<tr><td>sklearn.linear_model.Ridge-1        </td><td>True  </td><td style=\"text-align: right;\">     0.560946</td><td style=\"text-align: right;\">     2.64003</td></tr>\n",
       "<tr><td>sklearn.linear_model.Ridge-2        </td><td>True  </td><td style=\"text-align: right;\">     0.534456</td><td style=\"text-align: right;\">     2.51535</td></tr>\n",
       "<tr><td>sklearn.linear_model.Ridge-3        </td><td>True  </td><td style=\"text-align: right;\">     0.542594</td><td style=\"text-align: right;\">     2.55366</td></tr>\n",
       "<tr><td>sklearn.linear_model.Ridge-4        </td><td>True  </td><td style=\"text-align: right;\">     0.461603</td><td style=\"text-align: right;\">     2.17248</td></tr>\n",
       "<tr><td>sklearn.linear_model.Ridge-5        </td><td>True  </td><td style=\"text-align: right;\">     0.699298</td><td style=\"text-align: right;\">     3.29116</td></tr>\n",
       "<tr><td>sklearn.linear_model.ElasticNet-0   </td><td>True  </td><td style=\"text-align: right;\">     0.660176</td><td style=\"text-align: right;\">     3.10704</td></tr>\n",
       "<tr><td>sklearn.linear_model.ElasticNet-1   </td><td>True  </td><td style=\"text-align: right;\">     0.673686</td><td style=\"text-align: right;\">     3.17062</td></tr>\n",
       "<tr><td>sklearn.linear_model.ElasticNet-2   </td><td>True  </td><td style=\"text-align: right;\">     0.596214</td><td style=\"text-align: right;\">     2.80601</td></tr>\n",
       "<tr><td>sklearn.linear_model.ElasticNet-3   </td><td>True  </td><td style=\"text-align: right;\">     0.428872</td><td style=\"text-align: right;\">     2.01844</td></tr>\n",
       "<tr><td>sklearn.linear_model.ElasticNet-4   </td><td>True  </td><td style=\"text-align: right;\">     0.378528</td><td style=\"text-align: right;\">     1.7815 </td></tr>\n",
       "<tr><td>sklearn.linear_model.ElasticNet-5   </td><td>True  </td><td style=\"text-align: right;\">     0.403091</td><td style=\"text-align: right;\">     1.8971 </td></tr>\n",
       "</tbody>\n",
       "</table>"
      ],
      "text/plain": [
       "name                                  Ran?      Elapsed (s)    Percentage\n",
       "------------------------------------  ------  -------------  ------------\n",
       "data                                  True         1.07003        5.03595\n",
       "sklearn.tree.DecisionTreeRegressor-0  True         0.616815       2.90297\n",
       "sklearn.tree.DecisionTreeRegressor-1  True         1.53653        7.23148\n",
       "sklearn.tree.DecisionTreeRegressor-2  True         1.59487        7.50605\n",
       "sklearn.tree.DecisionTreeRegressor-3  True         1.53029        7.20213\n",
       "sklearn.tree.DecisionTreeRegressor-4  True         1.55809        7.33298\n",
       "sklearn.tree.DecisionTreeRegressor-5  True         1.54546        7.27351\n",
       "sklearn.tree.DecisionTreeRegressor-6  True         1.65551        7.79145\n",
       "sklearn.tree.DecisionTreeRegressor-7  True         1.40695        6.62165\n",
       "sklearn.linear_model.Lasso-0          True         0.333057       1.56749\n",
       "sklearn.linear_model.Lasso-1          True         0.428226       2.0154\n",
       "sklearn.linear_model.Lasso-2          True         0.361375       1.70077\n",
       "sklearn.linear_model.Lasso-3          True         0.519562       2.44526\n",
       "sklearn.linear_model.Lasso-4          True         0.407432       1.91753\n",
       "sklearn.linear_model.Lasso-5          True         0.474171       2.23163\n",
       "sklearn.linear_model.Ridge-0          True         0.269922       1.27036\n",
       "sklearn.linear_model.Ridge-1          True         0.560946       2.64003\n",
       "sklearn.linear_model.Ridge-2          True         0.534456       2.51535\n",
       "sklearn.linear_model.Ridge-3          True         0.542594       2.55366\n",
       "sklearn.linear_model.Ridge-4          True         0.461603       2.17248\n",
       "sklearn.linear_model.Ridge-5          True         0.699298       3.29116\n",
       "sklearn.linear_model.ElasticNet-0     True         0.660176       3.10704\n",
       "sklearn.linear_model.ElasticNet-1     True         0.673686       3.17062\n",
       "sklearn.linear_model.ElasticNet-2     True         0.596214       2.80601\n",
       "sklearn.linear_model.ElasticNet-3     True         0.428872       2.01844\n",
       "sklearn.linear_model.ElasticNet-4     True         0.378528       1.7815\n",
       "sklearn.linear_model.ElasticNet-5     True         0.403091       1.8971"
      ]
     },
     "execution_count": 5,
     "metadata": {},
     "output_type": "execute_result"
    }
   ],
   "source": [
    "# run experiments\n",
    "dag.build(force=True)"
   ]
  },
  {
   "cell_type": "markdown",
   "id": "6a20d086",
   "metadata": {},
   "source": [
    "## Indexing notebooks"
   ]
  },
  {
   "cell_type": "code",
   "execution_count": 8,
   "id": "2cbf58b6",
   "metadata": {
    "tags": [
     "hide-output"
    ]
   },
   "outputs": [],
   "source": [
    "# initialize db with notebooks in the outputs directory\n",
    "db = NotebookDatabase('nb.db', 'output/models/*.ipynb')\n",
    "\n",
    "# Note: pass update=True if you want to update the database if\n",
    "# the output notebook changes\n",
    "db.index(verbose=True, update=False);"
   ]
  },
  {
   "cell_type": "markdown",
   "id": "b99d69be",
   "metadata": {},
   "source": [
    "*Note: the `update` argument in `index()` was added in sklearn-evaluation version `0.7`*"
   ]
  },
  {
   "cell_type": "markdown",
   "id": "618e6000",
   "metadata": {},
   "source": [
    "## Querying notebooks\n",
    "\n",
    "`NotebookDatabase` uses SQLite. Here we use [JupySQL](https://jupysql.readthedocs.io/en/latest/intro.html) to query our experiments."
   ]
  },
  {
   "cell_type": "code",
   "execution_count": 9,
   "id": "30d65845",
   "metadata": {},
   "outputs": [],
   "source": [
    "# load jupysql magic\n",
    "%load_ext sql"
   ]
  },
  {
   "cell_type": "markdown",
   "id": "8c0c2625",
   "metadata": {},
   "source": [
    "### Best performing models"
   ]
  },
  {
   "cell_type": "code",
   "execution_count": 12,
   "id": "0aad38bf",
   "metadata": {
    "tags": [
     "hide-output"
    ]
   },
   "outputs": [
    {
     "name": "stdout",
     "output_type": "stream",
     "text": [
      "Done.\n"
     ]
    },
    {
     "data": {
      "text/html": [
       "<table>\n",
       "    <tr>\n",
       "        <th>path</th>\n",
       "        <th>model</th>\n",
       "        <th>mse</th>\n",
       "    </tr>\n",
       "    <tr>\n",
       "        <td>output/models/sklearn.linear_model.Ridge-0.ipynb</td>\n",
       "        <td>sklearn.linear_model.Ridge</td>\n",
       "        <td>0.5373777886259664</td>\n",
       "    </tr>\n",
       "    <tr>\n",
       "        <td>output/models/sklearn.linear_model.Ridge-2.ipynb</td>\n",
       "        <td>sklearn.linear_model.Ridge</td>\n",
       "        <td>0.5373794632905632</td>\n",
       "    </tr>\n",
       "    <tr>\n",
       "        <td>output/models/sklearn.linear_model.Ridge-4.ipynb</td>\n",
       "        <td>sklearn.linear_model.Ridge</td>\n",
       "        <td>0.5373812762581479</td>\n",
       "    </tr>\n",
       "</table>"
      ],
      "text/plain": [
       "[('output/models/sklearn.linear_model.Ridge-0.ipynb', 'sklearn.linear_model.Ridge', 0.5373777886259664),\n",
       " ('output/models/sklearn.linear_model.Ridge-2.ipynb', 'sklearn.linear_model.Ridge', 0.5373794632905632),\n",
       " ('output/models/sklearn.linear_model.Ridge-4.ipynb', 'sklearn.linear_model.Ridge', 0.5373812762581479)]"
      ]
     },
     "execution_count": 12,
     "metadata": {},
     "output_type": "execute_result"
    }
   ],
   "source": [
    "%%sql sqlite:///nb.db\n",
    "SELECT\n",
    "    path,\n",
    "    json_extract(c, '$.model') AS model,\n",
    "    json_extract(c, '$.mse') AS mse\n",
    "FROM nbs\n",
    "ORDER BY 3 ASC\n",
    "LIMIT 3"
   ]
  },
  {
   "cell_type": "markdown",
   "id": "5eb4a322",
   "metadata": {},
   "source": [
    "*Note:* If using SQLite 3.38.0 (which ships with Python >=3.10) or higher, you can use the shorter `->>` operator:\n",
    "\n",
    "```sql\n",
    "SELECT\n",
    "    path,\n",
    "    c ->> '$.model' AS model,\n",
    "    c ->> '$.mse' AS mse\n",
    "FROM nbs\n",
    "ORDER BY 3 ASC\n",
    "LIMIT 3\n",
    "```\n",
    "\n",
    "See SQLite's [documentation](https://www.sqlite.org/json1.html#jptr) for details."
   ]
  },
  {
   "cell_type": "markdown",
   "id": "49cbdf1c",
   "metadata": {},
   "source": [
    "### Average error by model type"
   ]
  },
  {
   "cell_type": "code",
   "execution_count": 10,
   "id": "dda420d1",
   "metadata": {
    "tags": [
     "hide-output"
    ]
   },
   "outputs": [
    {
     "name": "stdout",
     "output_type": "stream",
     "text": [
      " * sqlite:///nb.db\n",
      "Done.\n"
     ]
    },
    {
     "data": {
      "text/html": [
       "<table>\n",
       "    <tr>\n",
       "        <th>model</th>\n",
       "        <th>avg_mse</th>\n",
       "    </tr>\n",
       "    <tr>\n",
       "        <td>sklearn.linear_model.Ridge</td>\n",
       "        <td>0.5841920916573021</td>\n",
       "    </tr>\n",
       "    <tr>\n",
       "        <td>sklearn.tree.DecisionTreeRegressor</td>\n",
       "        <td>0.707644933130501</td>\n",
       "    </tr>\n",
       "    <tr>\n",
       "        <td>sklearn.linear_model.ElasticNet</td>\n",
       "        <td>1.0253005883728399</td>\n",
       "    </tr>\n",
       "    <tr>\n",
       "        <td>sklearn.linear_model.Lasso</td>\n",
       "        <td>1.1976653911089405</td>\n",
       "    </tr>\n",
       "</table>"
      ],
      "text/plain": [
       "[('sklearn.linear_model.Ridge', 0.5841920916573021),\n",
       " ('sklearn.tree.DecisionTreeRegressor', 0.707644933130501),\n",
       " ('sklearn.linear_model.ElasticNet', 1.0253005883728399),\n",
       " ('sklearn.linear_model.Lasso', 1.1976653911089405)]"
      ]
     },
     "execution_count": 10,
     "metadata": {},
     "output_type": "execute_result"
    }
   ],
   "source": [
    "%%sql\n",
    "SELECT\n",
    "    json_extract(c, '$.model') AS model,\n",
    "    AVG(json_extract(c, '$.mse')) AS avg_mse\n",
    "FROM nbs\n",
    "GROUP BY 1\n",
    "ORDER BY 2 ASC"
   ]
  },
  {
   "cell_type": "markdown",
   "id": "f06ea734",
   "metadata": {},
   "source": [
    "### DecisionTree by performance"
   ]
  },
  {
   "cell_type": "code",
   "execution_count": 11,
   "id": "c7ab2a78",
   "metadata": {
    "tags": [
     "hide-output"
    ]
   },
   "outputs": [
    {
     "name": "stdout",
     "output_type": "stream",
     "text": [
      " * sqlite:///nb.db\n",
      "Done.\n"
     ]
    },
    {
     "data": {
      "text/html": [
       "<table>\n",
       "    <tr>\n",
       "        <th>model</th>\n",
       "        <th>mse</th>\n",
       "        <th>max_depth</th>\n",
       "        <th>criterion</th>\n",
       "        <th>splitter</th>\n",
       "    </tr>\n",
       "    <tr>\n",
       "        <td>sklearn.tree.DecisionTreeRegressor</td>\n",
       "        <td>0.5392077393143362</td>\n",
       "        <td>5</td>\n",
       "        <td>squared_error</td>\n",
       "        <td>best</td>\n",
       "    </tr>\n",
       "    <tr>\n",
       "        <td>sklearn.tree.DecisionTreeRegressor</td>\n",
       "        <td>0.5392077393143363</td>\n",
       "        <td>5</td>\n",
       "        <td>friedman_mse</td>\n",
       "        <td>best</td>\n",
       "    </tr>\n",
       "    <tr>\n",
       "        <td>sklearn.tree.DecisionTreeRegressor</td>\n",
       "        <td>0.6540244908938286</td>\n",
       "        <td>5</td>\n",
       "        <td>squared_error</td>\n",
       "        <td>random</td>\n",
       "    </tr>\n",
       "    <tr>\n",
       "        <td>sklearn.tree.DecisionTreeRegressor</td>\n",
       "        <td>0.6624525754702242</td>\n",
       "        <td>3</td>\n",
       "        <td>squared_error</td>\n",
       "        <td>best</td>\n",
       "    </tr>\n",
       "    <tr>\n",
       "        <td>sklearn.tree.DecisionTreeRegressor</td>\n",
       "        <td>0.6624525754702242</td>\n",
       "        <td>3</td>\n",
       "        <td>friedman_mse</td>\n",
       "        <td>best</td>\n",
       "    </tr>\n",
       "</table>"
      ],
      "text/plain": [
       "[('sklearn.tree.DecisionTreeRegressor', 0.5392077393143362, 5, 'squared_error', 'best'),\n",
       " ('sklearn.tree.DecisionTreeRegressor', 0.5392077393143363, 5, 'friedman_mse', 'best'),\n",
       " ('sklearn.tree.DecisionTreeRegressor', 0.6540244908938286, 5, 'squared_error', 'random'),\n",
       " ('sklearn.tree.DecisionTreeRegressor', 0.6624525754702242, 3, 'squared_error', 'best'),\n",
       " ('sklearn.tree.DecisionTreeRegressor', 0.6624525754702242, 3, 'friedman_mse', 'best')]"
      ]
     },
     "execution_count": 11,
     "metadata": {},
     "output_type": "execute_result"
    }
   ],
   "source": [
    "%%sql\n",
    "SELECT\n",
    "    json_extract(c, '$.model') AS model,\n",
    "    json_extract(c, '$.mse') AS mse,\n",
    "    json_extract(c, '$.params.max_depth') AS max_depth,\n",
    "    json_extract(c, '$.params.criterion') AS criterion,\n",
    "    json_extract(c, '$.params.splitter') AS splitter\n",
    "FROM nbs\n",
    "WHERE json_extract(c, '$.model') = 'sklearn.tree.DecisionTreeRegressor'\n",
    "ORDER BY mse ASC\n",
    "LIMIT 5"
   ]
  }
 ],
 "metadata": {
  "celltoolbar": "Tags",
  "jupytext": {
   "cell_metadata_filter": "-all",
   "main_language": "python",
   "notebook_metadata_filter": "-all"
  },
  "kernelspec": {
   "display_name": "Python 3 (ipykernel)",
   "language": "python",
   "name": "python3"
  },
  "language_info": {
   "codemirror_mode": {
    "name": "ipython",
    "version": 3
   },
   "file_extension": ".py",
   "mimetype": "text/x-python",
   "name": "python",
   "nbconvert_exporter": "python",
   "pygments_lexer": "ipython3",
   "version": "3.10.6"
  }
 },
 "nbformat": 4,
 "nbformat_minor": 5
}
