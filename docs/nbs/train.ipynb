{
 "cells": [
  {
   "cell_type": "code",
   "execution_count": null,
   "id": "fa68cc34",
   "metadata": {},
   "outputs": [],
   "source": [
    "import importlib\n",
    "\n",
    "from sklearn.datasets import fetch_california_housing\n",
    "from sklearn.model_selection import train_test_split\n",
    "from sklearn import metrics\n",
    "import seaborn as sns\n",
    "import pandas as pd\n",
    "import numpy as np\n",
    "import matplotlib.pyplot as plt"
   ]
  },
  {
   "cell_type": "code",
   "execution_count": null,
   "id": "723a3c30",
   "metadata": {
    "tags": [
     "parameters"
    ]
   },
   "outputs": [],
   "source": [
    "model = 'sklearn.ensemble.RandomForestRegressor'\n",
    "params = {'min_samples_leaf': 1, 'n_estimators': 50}"
   ]
  },
  {
   "cell_type": "code",
   "execution_count": null,
   "id": "6426c9e6",
   "metadata": {
    "tags": [
     "model_name"
    ]
   },
   "outputs": [],
   "source": [
    "model"
   ]
  },
  {
   "cell_type": "code",
   "execution_count": null,
   "id": "0be4ac0c",
   "metadata": {},
   "outputs": [],
   "source": [
    "d = fetch_california_housing()\n",
    "X = d['data']\n",
    "y = d['target']"
   ]
  },
  {
   "cell_type": "code",
   "execution_count": null,
   "id": "e310694f",
   "metadata": {},
   "outputs": [],
   "source": [
    "tokens = model.split('.')\n",
    "name, module = tokens[-1], '.'.join(tokens[:-1])\n",
    "class_ = getattr(importlib.import_module(module), name)"
   ]
  },
  {
   "cell_type": "code",
   "execution_count": null,
   "id": "1fbb3a6d",
   "metadata": {
    "tags": [
     "feature_names"
    ]
   },
   "outputs": [],
   "source": [
    "list(d['feature_names'])"
   ]
  },
  {
   "cell_type": "code",
   "execution_count": null,
   "id": "b350998d",
   "metadata": {},
   "outputs": [],
   "source": [
    "X_train, X_test, y_train, y_test = train_test_split(X,\n",
    "                                                    y,\n",
    "                                                    test_size=0.33,\n",
    "                                                    random_state=42)"
   ]
  },
  {
   "cell_type": "code",
   "execution_count": null,
   "id": "04af7a05",
   "metadata": {},
   "outputs": [],
   "source": [
    "model = class_(**params)"
   ]
  },
  {
   "cell_type": "code",
   "execution_count": null,
   "id": "16982c14",
   "metadata": {
    "tags": [
     "model_params"
    ]
   },
   "outputs": [],
   "source": [
    "model.get_params()"
   ]
  },
  {
   "cell_type": "code",
   "execution_count": null,
   "id": "be616468",
   "metadata": {},
   "outputs": [],
   "source": [
    "model.fit(X_train, y_train)"
   ]
  },
  {
   "cell_type": "code",
   "execution_count": null,
   "id": "affd0605",
   "metadata": {},
   "outputs": [],
   "source": [
    "y_pred = model.predict(X_test)"
   ]
  },
  {
   "cell_type": "code",
   "execution_count": null,
   "id": "1f56e3ea",
   "metadata": {
    "tags": [
     "plot"
    ]
   },
   "outputs": [],
   "source": [
    "ax = plt.gca()\n",
    "sns.scatterplot(x=y_pred, y=y_test, ax=ax)\n",
    "ax.set_xlim(0, 20)\n",
    "ax.set_ylim(0, 20)\n",
    "ax.grid()"
   ]
  },
  {
   "cell_type": "code",
   "execution_count": null,
   "id": "4f6b6e1e",
   "metadata": {},
   "outputs": [],
   "source": [
    "metrics_ = {\n",
    "    'mae': metrics.mean_absolute_error(y_test, y_pred),\n",
    "    'mse': metrics.mean_squared_error(y_test, y_pred),\n",
    "    'r2': metrics.r2_score(y_test, y_pred),\n",
    "}"
   ]
  },
  {
   "cell_type": "code",
   "execution_count": null,
   "id": "0226c895",
   "metadata": {
    "tags": [
     "metrics"
    ]
   },
   "outputs": [],
   "source": [
    "pd.DataFrame(metrics_, index=[0])"
   ]
  },
  {
   "cell_type": "code",
   "execution_count": null,
   "id": "d871ed26",
   "metadata": {},
   "outputs": [],
   "source": [
    "df = pd.DataFrame(X_test)\n",
    "df.columns = d['feature_names']\n",
    "df['y_true'] = y_test\n",
    "df['y_pred'] = y_pred\n",
    "df['error_abs'] = np.abs(y_test - y_pred)\n",
    "df['error_sq'] = np.square(y_test - y_pred)"
   ]
  },
  {
   "cell_type": "code",
   "execution_count": null,
   "id": "def5f3dc",
   "metadata": {
    "tags": [
     "houseage"
    ]
   },
   "outputs": [],
   "source": [
    "error_houseage = df.groupby('HouseAge')[['error_abs', 'error_sq']].mean()\n",
    "error_houseage.columns = ['mae', 'mse']\n",
    "\n",
    "\n",
    "def r2_score(df):\n",
    "    return metrics.r2_score(df.y_true, df.y_pred)\n",
    "\n",
    "\n",
    "r2 = pd.DataFrame(df.groupby('HouseAge').apply(r2_score))\n",
    "r2.columns = ['r2']\n",
    "\n",
    "error_houseage.merge(r2, on='HouseAge')"
   ]
  }
 ],
 "metadata": {
  "kernelspec": {
   "display_name": "Python 3",
   "language": "python",
   "name": "python3"
  }
 },
 "nbformat": 4,
 "nbformat_minor": 5
}
