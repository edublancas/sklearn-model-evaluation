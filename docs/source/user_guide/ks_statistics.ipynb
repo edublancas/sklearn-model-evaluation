{
 "cells": [
  {
   "cell_type": "markdown",
   "id": "7f8a2469",
   "metadata": {},
   "source": [
    "# KS Statistics\n",
    "\n",
    "The K-S Statistic plot, or the Kolmogorov-Smirnov statistic plot determines if a sample belongs to a population with a specific distribution. It is used as a test of goodness of fit "
   ]
  },
  {
   "cell_type": "code",
   "execution_count": 8,
   "id": "d5cf0970",
   "metadata": {},
   "outputs": [
    {
     "ename": "ImportError",
     "evalue": "cannot import name 'ks_statistics' from 'sklearn_evaluation.plot.ks_statistics' (/Users/neelashasen/miniforge3/envs/sk-eval/lib/python3.10/site-packages/sklearn_evaluation/plot/ks_statistics.py)",
     "output_type": "error",
     "traceback": [
      "\u001b[0;31m---------------------------------------------------------------------------\u001b[0m",
      "\u001b[0;31mImportError\u001b[0m                               Traceback (most recent call last)",
      "Cell \u001b[0;32mIn [8], line 8\u001b[0m\n\u001b[1;32m      6\u001b[0m \u001b[38;5;28;01mfrom\u001b[39;00m \u001b[38;5;21;01msklearn\u001b[39;00m\u001b[38;5;21;01m.\u001b[39;00m\u001b[38;5;21;01mlinear_model\u001b[39;00m \u001b[38;5;28;01mimport\u001b[39;00m LogisticRegression\n\u001b[1;32m      7\u001b[0m \u001b[38;5;28;01mfrom\u001b[39;00m \u001b[38;5;21;01msklearn\u001b[39;00m\u001b[38;5;21;01m.\u001b[39;00m\u001b[38;5;21;01mdatasets\u001b[39;00m \u001b[38;5;28;01mimport\u001b[39;00m make_classification\n\u001b[0;32m----> 8\u001b[0m \u001b[38;5;28;01mfrom\u001b[39;00m \u001b[38;5;21;01msklearn_evaluation\u001b[39;00m\u001b[38;5;21;01m.\u001b[39;00m\u001b[38;5;21;01mplot\u001b[39;00m\u001b[38;5;21;01m.\u001b[39;00m\u001b[38;5;21;01mks_statistics\u001b[39;00m \u001b[38;5;28;01mimport\u001b[39;00m ks_statistics\n",
      "\u001b[0;31mImportError\u001b[0m: cannot import name 'ks_statistics' from 'sklearn_evaluation.plot.ks_statistics' (/Users/neelashasen/miniforge3/envs/sk-eval/lib/python3.10/site-packages/sklearn_evaluation/plot/ks_statistics.py)"
     ]
    }
   ],
   "source": [
    "import matplotlib\n",
    "import pandas as pd\n",
    "import numpy as np\n",
    "import matplotlib.pyplot as plt\n",
    "from sklearn.datasets import load_iris as load_data\n",
    "from sklearn.linear_model import LogisticRegression\n",
    "from sklearn.datasets import make_classification\n",
    "from sklearn_evaluation.plot.ks_statistics import ks_statistics"
   ]
  },
  {
   "cell_type": "code",
   "execution_count": 9,
   "id": "38c44e5e",
   "metadata": {},
   "outputs": [],
   "source": [
    "matplotlib.rcParams[\"figure.figsize\"] = (7, 7)\n",
    "matplotlib.rcParams[\"font.size\"] = 18"
   ]
  },
  {
   "cell_type": "code",
   "execution_count": 6,
   "id": "bfd8b4d3",
   "metadata": {},
   "outputs": [],
   "source": [
    "X, y = load_data(return_X_y=True)\n",
    "\n",
    "# Create classifier instance\n",
    "lr = LogisticRegression(max_iter=200)\n",
    "\n",
    "# Fit the model\n",
    "lr.fit(X,y)\n",
    "y_probas = lr.predict_proba(X)"
   ]
  },
  {
   "cell_type": "code",
   "execution_count": 7,
   "id": "2ae1387d",
   "metadata": {},
   "outputs": [
    {
     "ename": "TypeError",
     "evalue": "'module' object is not callable",
     "output_type": "error",
     "traceback": [
      "\u001b[0;31m---------------------------------------------------------------------------\u001b[0m",
      "\u001b[0;31mTypeError\u001b[0m                                 Traceback (most recent call last)",
      "Cell \u001b[0;32mIn [7], line 1\u001b[0m\n\u001b[0;32m----> 1\u001b[0m \u001b[43mks_statistics\u001b[49m\u001b[43m(\u001b[49m\u001b[43my\u001b[49m\u001b[43m,\u001b[49m\u001b[43m \u001b[49m\u001b[43my_probas\u001b[49m\u001b[43m)\u001b[49m\n",
      "\u001b[0;31mTypeError\u001b[0m: 'module' object is not callable"
     ]
    }
   ],
   "source": [
    "ks_statistics(y, y_probas)"
   ]
  },
  {
   "cell_type": "code",
   "execution_count": null,
   "id": "8c99d327",
   "metadata": {},
   "outputs": [],
   "source": []
  }
 ],
 "metadata": {
  "jupytext": {
   "cell_metadata_filter": "-all",
   "main_language": "python",
   "notebook_metadata_filter": "-all"
  },
  "kernelspec": {
   "display_name": "Python 3 (ipykernel)",
   "language": "python",
   "name": "python3"
  },
  "language_info": {
   "codemirror_mode": {
    "name": "ipython",
    "version": 3
   },
   "file_extension": ".py",
   "mimetype": "text/x-python",
   "name": "python",
   "nbconvert_exporter": "python",
   "pygments_lexer": "ipython3",
   "version": "3.10.6"
  }
 },
 "nbformat": 4,
 "nbformat_minor": 5
}
